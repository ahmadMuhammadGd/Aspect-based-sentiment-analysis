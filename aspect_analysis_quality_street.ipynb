{
  "cells": [
    {
      "cell_type": "code",
      "execution_count": null,
      "metadata": {
        "id": "KRplgjHtqP0t"
      },
      "outputs": [],
      "source": [
        "!pip install transformers"
      ]
    },
    {
      "cell_type": "markdown",
      "metadata": {},
      "source": [
        "# Scrapping data function"
      ]
    },
    {
      "cell_type": "code",
      "execution_count": 1,
      "metadata": {
        "id": "lORh0uTXqpad"
      },
      "outputs": [],
      "source": [
        "import requests\n",
        "import pandas as pd\n",
        "from bs4 import BeautifulSoup\n",
        "import time\n",
        "\n",
        "def get_reviews(url): #returns list\n",
        "    comments_output = []\n",
        "    result = requests.get(url)\n",
        "    src = result.content\n",
        "    soup = BeautifulSoup(src, 'lxml')\n",
        "\n",
        "    comments = soup.find_all(\"div\", {\"class\": \"description\"})\n",
        "\n",
        "    for i in range(len(comments)):\n",
        "        comments_output.append(comments[i].text)\n",
        "\n",
        "    return comments_output"
      ]
    },
    {
      "cell_type": "code",
      "execution_count": null,
      "metadata": {
        "id": "K4XD9upCqzIo"
      },
      "outputs": [],
      "source": [
        "#data scrapping\n",
        "import os\n",
        "# Check if the CSV file already exists\n",
        "if os.path.exists('CSV_OUT.csv'):\n",
        "    df = pd.read_csv('CSV_OUT.csv')  # Load existing CSV file into DataFrame\n",
        "else:\n",
        "    df = pd.DataFrame()  # Create an empty DataFrame with a 'Review' column\n",
        "\n",
        "for i in range(13): #13 review page\n",
        "    time.sleep(1)\n",
        "    reviews = get_reviews(\"https://www.chickadvisor.com/item/quality-street-chocolates/?page={0}#reviews\".format(i+1))\n",
        "    df = df.append(pd.DataFrame({'Review': reviews}))\n",
        "    print(f\"Page {i+1} has been scrapped successfully\")\n",
        "\n",
        "df = df.reset_index(drop=True)\n",
        "df.to_csv('CSV_OUT.csv')"
      ]
    },
    {
      "cell_type": "markdown",
      "metadata": {},
      "source": [
        "# Sentiment analysis and zero-shot classification"
      ]
    },
    {
      "cell_type": "code",
      "execution_count": null,
      "metadata": {
        "id": "ucC3F7Ieq5iU"
      },
      "outputs": [],
      "source": [
        "from transformers import pipeline\n",
        "sentimentanalyzer = pipeline(\"sentiment-analysis\")\n",
        "aspectclassifier = pipeline(\"zero-shot-classification\")"
      ]
    },
    {
      "cell_type": "code",
      "execution_count": 7,
      "metadata": {
        "id": "miq0ebq_q_34"
      },
      "outputs": [],
      "source": [
        "#aspect:rank\n",
        "aspects = {\n",
        "            'Taste':[0,0], 'Packaging':[0,0], 'Price':[0,0]\n",
        "}\n",
        "products_aspect_dict = {}\n",
        "\n",
        "for aspect in aspects:\n",
        "    df[f'{aspect}POS'] = 0\n",
        "    df[f'{aspect}NEG'] = 0\n"
      ]
    },
    {
      "cell_type": "code",
      "execution_count": null,
      "metadata": {
        "id": "nJ1WwlvysL16"
      },
      "outputs": [],
      "source": [
        "for index, row in df.iterrows():\n",
        "        reviewId = index\n",
        "        aspect_out = aspectclassifier(row['Review'][:512], candidate_labels=list(aspects.keys()))\n",
        "        '''\n",
        "        aspect_out INPUT OUTPUT SAMPLE:\n",
        "        sequence = \"Who are you voting for in 2020?\"\n",
        "        candidate_labels = [\"politics\", \"public health\", \"economics\"]\n",
        "\n",
        "        classifier(sequence, candidate_labels)\n",
        "        --------------------------------------------------------------\n",
        "        {'labels': ['politics', 'economics', 'public health'],\n",
        "         'scores': [0.972518801689148, 0.01458414364606142, 0.012897025793790817],\n",
        "         'sequence': 'Who are you voting for in 2020?'}\n",
        "        '''\n",
        "        sentiment_out = sentimentanalyzer(row['Review'][:512])\n",
        "        '''\n",
        "        sentiment_out INPUT OUTPUT SAMPLE:\n",
        "        sentiment_pipeline = pipeline(\"sentiment-analysis\")\n",
        "        data = [\"I love you\", \"I hate you\"]\n",
        "        ----------------------------------------------------\n",
        "        [{'label': 'POSITIVE', 'score': 0.9998},\n",
        "         {'label': 'NEGATIVE', 'score': 0.9991}]\n",
        "        '''\n",
        "        print(f\"Review ID: {reviewId}\")\n",
        "        print(f\"Text: {row['Review'][:512]}\")\n",
        "        print(f\"Dictionary: {sentiment_out}\")\n",
        "\n",
        "        for aspect, aspect_score in zip(aspect_out['labels'], aspect_out['scores']):\n",
        "            if sentiment_out[0]['label'] == 'POSITIVE':\n",
        "                df.loc[index, f'{aspect}POS'] = sentiment_out[0]['score'] * aspect_score\n",
        "                df.loc[index, f'{aspect}NEG'] = 0\n",
        "\n",
        "            elif sentiment_out[0]['label'] == 'NEGATIVE':\n",
        "                df.loc[index, f'{aspect}POS'] = 0\n",
        "                df.loc[index, f'{aspect}NEG'] = sentiment_out[0]['score'] * aspect_score\n",
        "\n",
        "\n",
        "            print(f\"Aspect: {aspect}, aspect_scores: {aspect_score}\")\n",
        "\n",
        "        #exporting file\n",
        "        df.to_csv('CSV_OUT.csv')\n",
        "        print('-'*100)"
      ]
    }
  ],
  "metadata": {
    "colab": {
      "provenance": []
    },
    "kernelspec": {
      "display_name": "Python 3",
      "name": "python3"
    },
    "language_info": {
      "name": "python"
    }
  },
  "nbformat": 4,
  "nbformat_minor": 0
}
